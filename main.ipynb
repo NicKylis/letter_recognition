{
  "cells": [
    {
      "cell_type": "markdown",
      "metadata": {
        "id": "view-in-github",
        "colab_type": "text"
      },
      "source": [
        "<a href=\"https://colab.research.google.com/github/NicKylis/letter_recognition/blob/nick/main.ipynb\" target=\"_parent\"><img src=\"https://colab.research.google.com/assets/colab-badge.svg\" alt=\"Open In Colab\"/></a>"
      ]
    },
    {
      "cell_type": "markdown",
      "metadata": {
        "id": "_OQhvd-VQAuu"
      },
      "source": [
        "<h1><center>Digit Recognition using the MNIST dataset</center></h1>"
      ]
    },
    {
      "cell_type": "code",
      "execution_count": null,
      "metadata": {
        "id": "kI0kvbgla13L"
      },
      "outputs": [],
      "source": [
        "import os\n",
        "import tensorflow as tf\n",
        "import matplotlib.pyplot as plt\n",
        "import numpy as np\n",
        "#import kagglehub\n",
        "import shutil\n",
        "from sklearn.model_selection import train_test_split\n",
        "from sklearn.metrics import accuracy_score, confusion_matrix\n",
        "from tensorflow.keras.preprocessing.image import ImageDataGenerator\n",
        "from tensorflow import keras\n",
        "from tensorflow.keras.utils import to_categorical\n",
        "from tensorflow.keras.layers import Conv2D, ReLU, MaxPooling2D, UpSampling2D, Dropout, BatchNormalization, Flatten, Dense\n",
        "from cv2 import cv2\n",
        "from tensorflow.keras.callbacks import ReduceLROnPlateau"
      ]
    },
    {
      "cell_type": "markdown",
      "metadata": {
        "id": "BIC1IO1dQAuw"
      },
      "source": [
        "We first create a function to load the data in the image generators."
      ]
    },
    {
      "cell_type": "code",
      "execution_count": null,
      "metadata": {
        "id": "iya-qDQePUK9"
      },
      "outputs": [],
      "source": [
        "# def clean_image(img): Unused, increased losses in data\n",
        "#     kernel = np.ones((3, 3), np.uint8)\n",
        "#     img = cv2.morphologyEx(img, cv2.MORPH_OPEN, kernel)\n",
        "#     img = cv2.morphologyEx(img, cv2.MORPH_CLOSE, kernel)\n",
        "#     return img\n",
        "def get_MNIST_dataset(train_generator, batch_size=32, val_split=0.2, random_state=42):\n",
        "    mnist = tf.keras.datasets.mnist\n",
        "    (x_train, y_train), (x_test, y_test) = mnist.load_data()\n",
        "\n",
        "    x_train = x_train.reshape(-1, 28, 28, 1).astype(\"float32\") / 255.0 #Normalize data\n",
        "    x_test = x_test.reshape(-1, 28, 28, 1).astype(\"float32\") / 255.0\n",
        "    #Split data to train and validation\n",
        "    x_train, x_val, y_train, y_val = train_test_split(x_train, y_train, test_size = val_split, random_state=random_state)\n",
        "\n",
        "    num_classes = 10  # MNIST has 10 classes (digits 0-9)\n",
        "    y_train = to_categorical(y_train, num_classes)\n",
        "    y_val = to_categorical(y_val, num_classes)\n",
        "    y_test = to_categorical(y_test, num_classes)\n",
        "\n",
        "    #Use default ImageDataGenerator for inmutable images\n",
        "    val_test_generator = ImageDataGenerator()\n",
        "    train_gen = train_generator.flow(x_train, y_train, batch_size=batch_size)\n",
        "    val_gen = val_test_generator.flow(x_val, y_val, batch_size=batch_size)\n",
        "    test_gen = val_test_generator.flow(x_test, y_test, batch_size=batch_size, shuffle=False)\n",
        "\n",
        "    return train_gen, val_gen, test_gen"
      ]
    },
    {
      "cell_type": "markdown",
      "metadata": {
        "id": "CrPrEMJ5QAuw"
      },
      "source": [
        "We then create the image generators. For the train data we will use data augmentation in order to increase the accuracy of the model."
      ]
    },
    {
      "cell_type": "code",
      "execution_count": null,
      "metadata": {
        "id": "pezpnYEJ4wdw"
      },
      "outputs": [],
      "source": [
        "train_generator = ImageDataGenerator()\n",
        "train_generator_aug = ImageDataGenerator(#Use this one, higher accuracy percentage\n",
        "    rotation_range=25,\n",
        "    width_shift_range=0.15,\n",
        "    height_shift_range=0.15,\n",
        "    shear_range=0.2,\n",
        "    zoom_range=0.2,)\n",
        "\n",
        "train_data, val_data, test_data = get_MNIST_dataset(train_generator, batch_size=32, val_split=0.2, random_state=42)\n",
        "train_data_aug, val_data_aug, test_data_aug = get_MNIST_dataset(train_generator, batch_size=32, val_split=0.2, random_state=42)"
      ]
    },
    {
      "cell_type": "markdown",
      "metadata": {
        "id": "WxtBLlEPQAux"
      },
      "source": [
        "We now create the model's architecture and layers."
      ]
    },
    {
      "cell_type": "code",
      "execution_count": null,
      "metadata": {
        "id": "yITuzdynQAuy",
        "outputId": "b913336f-976e-4248-e2a8-aab82a844b00"
      },
      "outputs": [
        {
          "name": "stdout",
          "output_type": "stream",
          "text": [
            "Model: \"sequential\"\n",
            "_________________________________________________________________\n",
            " Layer (type)                Output Shape              Param #   \n",
            "=================================================================\n",
            " conv2d (Conv2D)             (None, 26, 26, 32)        320       \n",
            "                                                                 \n",
            " batch_normalization (BatchN  (None, 26, 26, 32)       128       \n",
            " ormalization)                                                   \n",
            "                                                                 \n",
            " re_lu (ReLU)                (None, 26, 26, 32)        0         \n",
            "                                                                 \n",
            " max_pooling2d (MaxPooling2D  (None, 13, 13, 32)       0         \n",
            " )                                                               \n",
            "                                                                 \n",
            " dropout (Dropout)           (None, 13, 13, 32)        0         \n",
            "                                                                 \n",
            " max_pooling2d_1 (MaxPooling  (None, 6, 6, 32)         0         \n",
            " 2D)                                                             \n",
            "                                                                 \n",
            " up_sampling2d (UpSampling2D  (None, 12, 12, 32)       0         \n",
            " )                                                               \n",
            "                                                                 \n",
            " conv2d_1 (Conv2D)           (None, 10, 10, 64)        18496     \n",
            "                                                                 \n",
            " batch_normalization_1 (Batc  (None, 10, 10, 64)       256       \n",
            " hNormalization)                                                 \n",
            "                                                                 \n",
            " re_lu_1 (ReLU)              (None, 10, 10, 64)        0         \n",
            "                                                                 \n",
            " dropout_1 (Dropout)         (None, 10, 10, 64)        0         \n",
            "                                                                 \n",
            " up_sampling2d_1 (UpSampling  (None, 20, 20, 64)       0         \n",
            " 2D)                                                             \n",
            "                                                                 \n",
            " max_pooling2d_2 (MaxPooling  (None, 10, 10, 64)       0         \n",
            " 2D)                                                             \n",
            "                                                                 \n",
            " conv2d_2 (Conv2D)           (None, 8, 8, 64)          36928     \n",
            "                                                                 \n",
            " batch_normalization_2 (Batc  (None, 8, 8, 64)         256       \n",
            " hNormalization)                                                 \n",
            "                                                                 \n",
            " re_lu_2 (ReLU)              (None, 8, 8, 64)          0         \n",
            "                                                                 \n",
            " dropout_2 (Dropout)         (None, 8, 8, 64)          0         \n",
            "                                                                 \n",
            " conv2d_3 (Conv2D)           (None, 6, 6, 64)          36928     \n",
            "                                                                 \n",
            " batch_normalization_3 (Batc  (None, 6, 6, 64)         256       \n",
            " hNormalization)                                                 \n",
            "                                                                 \n",
            " re_lu_3 (ReLU)              (None, 6, 6, 64)          0         \n",
            "                                                                 \n",
            " dropout_3 (Dropout)         (None, 6, 6, 64)          0         \n",
            "                                                                 \n",
            " conv2d_4 (Conv2D)           (None, 4, 4, 64)          36928     \n",
            "                                                                 \n",
            " batch_normalization_4 (Batc  (None, 4, 4, 64)         256       \n",
            " hNormalization)                                                 \n",
            "                                                                 \n",
            " re_lu_4 (ReLU)              (None, 4, 4, 64)          0         \n",
            "                                                                 \n",
            " flatten (Flatten)           (None, 1024)              0         \n",
            "                                                                 \n",
            " dense (Dense)               (None, 100)               102500    \n",
            "                                                                 \n",
            " dropout_4 (Dropout)         (None, 100)               0         \n",
            "                                                                 \n",
            " dense_1 (Dense)             (None, 10)                1010      \n",
            "                                                                 \n",
            "=================================================================\n",
            "Total params: 234,262\n",
            "Trainable params: 233,686\n",
            "Non-trainable params: 576\n",
            "_________________________________________________________________\n"
          ]
        }
      ],
      "source": [
        "model = keras.Sequential()\n",
        "model.add(Conv2D(32, (3, 3), strides=(1, 1), activation=None, input_shape=(28, 28, 1)))\n",
        "model.add(BatchNormalization())\n",
        "model.add(ReLU())\n",
        "model.add(MaxPooling2D((2, 2)))\n",
        "model.add(Dropout(0.2)) #Original image feature extraction\n",
        "\n",
        "#Feature extraction from simulating Opening operation on image\n",
        "model.add(MaxPooling2D((2, 2)))#Erosion\n",
        "model.add(UpSampling2D(size=(2, 2)))#Dilation\n",
        "model.add(Conv2D(64, (3, 3), activation=None))\n",
        "model.add(BatchNormalization())\n",
        "model.add(ReLU())\n",
        "model.add(Dropout(0.4))#0.15\n",
        "\n",
        "#Feature extraction from simulating Closing operation on image\n",
        "model.add(UpSampling2D(size=(2, 2)))#Dilation\n",
        "model.add(MaxPooling2D(2, 2))#Erosion\n",
        "model.add(Conv2D(64, (3, 3), activation=None))\n",
        "model.add(BatchNormalization())\n",
        "model.add(ReLU())\n",
        "model.add(Dropout(0.2))\n",
        "\n",
        "model.add(Conv2D(64, (3, 3), activation=None))\n",
        "model.add(BatchNormalization())\n",
        "model.add(ReLU())\n",
        "model.add(Dropout(0.2))\n",
        "\n",
        "model.add(Conv2D(64, (3, 3), activation=None))\n",
        "model.add(BatchNormalization())\n",
        "model.add(ReLU())\n",
        "\n",
        "model.add(Flatten())\n",
        "model.add(Dense(100, activation='relu'))\n",
        "model.add(Dropout(0.25))\n",
        "model.add(Dense(10, activation='softmax'))\n",
        "\n",
        "from tensorflow.keras.losses import CategoricalCrossentropy\n",
        "loss_fn = CategoricalCrossentropy(label_smoothing=0.1)\n",
        "model.compile(optimizer='adam',\n",
        "              loss=loss_fn,\n",
        "              metrics=['accuracy'])\n",
        "model.summary()\n",
        "#Can use more epochs, should improve performance marginally"
      ]
    },
    {
      "cell_type": "markdown",
      "metadata": {
        "id": "bP8IwhWVQAuy"
      },
      "source": [
        "We also create custom scheduler and callback functions."
      ]
    },
    {
      "cell_type": "code",
      "execution_count": null,
      "metadata": {
        "id": "hgW50GZsQAuz"
      },
      "outputs": [],
      "source": [
        "lr_scheduler = ReduceLROnPlateau(monitor='val_loss', patience=3, factor=0.5, min_lr=1e-6)\n",
        "callback = tf.keras.callbacks.EarlyStopping(monitor='loss', patience=10, restore_best_weights=True)"
      ]
    },
    {
      "cell_type": "code",
      "execution_count": null,
      "metadata": {
        "colab": {
          "base_uri": "https://localhost:8080/"
        },
        "id": "kdyzQArVQNUB",
        "outputId": "0245b508-2593-4ed2-d3af-81fd045577c6",
        "scrolled": true
      },
      "outputs": [
        {
          "name": "stdout",
          "output_type": "stream",
          "text": [
            "Epoch 1/60\n",
            "1500/1500 [==============================] - 14s 9ms/step - loss: 0.7169 - accuracy: 0.9386 - val_loss: 0.5699 - val_accuracy: 0.9819 - lr: 0.0010\n",
            "Epoch 2/60\n",
            "1500/1500 [==============================] - 14s 9ms/step - loss: 0.6003 - accuracy: 0.9800 - val_loss: 0.5594 - val_accuracy: 0.9849 - lr: 0.0010\n",
            "Epoch 3/60\n",
            "1500/1500 [==============================] - 14s 9ms/step - loss: 0.5833 - accuracy: 0.9841 - val_loss: 0.5591 - val_accuracy: 0.9834 - lr: 0.0010\n",
            "Epoch 4/60\n",
            "1500/1500 [==============================] - 14s 9ms/step - loss: 0.5725 - accuracy: 0.9869 - val_loss: 0.5561 - val_accuracy: 0.9841 - lr: 0.0010\n",
            "Epoch 5/60\n",
            "1500/1500 [==============================] - 14s 9ms/step - loss: 0.5674 - accuracy: 0.9878 - val_loss: 0.5464 - val_accuracy: 0.9870 - lr: 0.0010\n",
            "Epoch 6/60\n",
            "1500/1500 [==============================] - 14s 9ms/step - loss: 0.5611 - accuracy: 0.9897 - val_loss: 0.5354 - val_accuracy: 0.9903 - lr: 0.0010\n",
            "Epoch 7/60\n",
            "1500/1500 [==============================] - 14s 9ms/step - loss: 0.5571 - accuracy: 0.9909 - val_loss: 0.5373 - val_accuracy: 0.9894 - lr: 0.0010\n",
            "Epoch 8/60\n",
            "1500/1500 [==============================] - 14s 9ms/step - loss: 0.5538 - accuracy: 0.9914 - val_loss: 0.5340 - val_accuracy: 0.9903 - lr: 0.0010\n",
            "Epoch 9/60\n",
            "1500/1500 [==============================] - 14s 9ms/step - loss: 0.5516 - accuracy: 0.9916 - val_loss: 0.5320 - val_accuracy: 0.9907 - lr: 0.0010\n",
            "Epoch 10/60\n",
            "1500/1500 [==============================] - 14s 9ms/step - loss: 0.5487 - accuracy: 0.9931 - val_loss: 0.5306 - val_accuracy: 0.9912 - lr: 0.0010\n",
            "Epoch 11/60\n",
            "1500/1500 [==============================] - 14s 9ms/step - loss: 0.5472 - accuracy: 0.9928 - val_loss: 0.5288 - val_accuracy: 0.9923 - lr: 0.0010\n",
            "Epoch 12/60\n",
            "1500/1500 [==============================] - 13s 9ms/step - loss: 0.5454 - accuracy: 0.9937 - val_loss: 0.5292 - val_accuracy: 0.9907 - lr: 0.0010\n",
            "Epoch 13/60\n",
            "1500/1500 [==============================] - 14s 9ms/step - loss: 0.5433 - accuracy: 0.9945 - val_loss: 0.5269 - val_accuracy: 0.9919 - lr: 0.0010\n",
            "Epoch 14/60\n",
            "1500/1500 [==============================] - 14s 9ms/step - loss: 0.5422 - accuracy: 0.9943 - val_loss: 0.5288 - val_accuracy: 0.9918 - lr: 0.0010\n",
            "Epoch 15/60\n",
            "1500/1500 [==============================] - 14s 9ms/step - loss: 0.5415 - accuracy: 0.9950 - val_loss: 0.5267 - val_accuracy: 0.9926 - lr: 0.0010\n",
            "Epoch 16/60\n",
            "1500/1500 [==============================] - 14s 9ms/step - loss: 0.5400 - accuracy: 0.9950 - val_loss: 0.5300 - val_accuracy: 0.9916 - lr: 0.0010\n",
            "Epoch 17/60\n",
            "1500/1500 [==============================] - 14s 9ms/step - loss: 0.5387 - accuracy: 0.9958 - val_loss: 0.5241 - val_accuracy: 0.9923 - lr: 0.0010\n",
            "Epoch 18/60\n",
            "1500/1500 [==============================] - 14s 9ms/step - loss: 0.5383 - accuracy: 0.9953 - val_loss: 0.5288 - val_accuracy: 0.9913 - lr: 0.0010\n",
            "Epoch 19/60\n",
            "1500/1500 [==============================] - 14s 9ms/step - loss: 0.5374 - accuracy: 0.9958 - val_loss: 0.5264 - val_accuracy: 0.9922 - lr: 0.0010\n",
            "Epoch 20/60\n",
            "1500/1500 [==============================] - 14s 10ms/step - loss: 0.5361 - accuracy: 0.9961 - val_loss: 0.5257 - val_accuracy: 0.9925 - lr: 0.0010\n",
            "Epoch 21/60\n",
            "1500/1500 [==============================] - 14s 9ms/step - loss: 0.5320 - accuracy: 0.9970 - val_loss: 0.5201 - val_accuracy: 0.9937 - lr: 5.0000e-04\n",
            "Epoch 22/60\n",
            "1500/1500 [==============================] - 14s 9ms/step - loss: 0.5314 - accuracy: 0.9972 - val_loss: 0.5209 - val_accuracy: 0.9935 - lr: 5.0000e-04\n",
            "Epoch 23/60\n",
            "1500/1500 [==============================] - 14s 9ms/step - loss: 0.5309 - accuracy: 0.9974 - val_loss: 0.5208 - val_accuracy: 0.9936 - lr: 5.0000e-04\n",
            "Epoch 24/60\n",
            "1500/1500 [==============================] - 14s 9ms/step - loss: 0.5299 - accuracy: 0.9977 - val_loss: 0.5196 - val_accuracy: 0.9935 - lr: 5.0000e-04\n",
            "Epoch 25/60\n",
            "1500/1500 [==============================] - 14s 9ms/step - loss: 0.5299 - accuracy: 0.9979 - val_loss: 0.5206 - val_accuracy: 0.9939 - lr: 5.0000e-04\n",
            "Epoch 26/60\n",
            "1500/1500 [==============================] - 14s 9ms/step - loss: 0.5295 - accuracy: 0.9976 - val_loss: 0.5189 - val_accuracy: 0.9936 - lr: 5.0000e-04\n",
            "Epoch 27/60\n",
            "1500/1500 [==============================] - 15s 10ms/step - loss: 0.5294 - accuracy: 0.9976 - val_loss: 0.5203 - val_accuracy: 0.9937 - lr: 5.0000e-04\n",
            "Epoch 28/60\n",
            "1500/1500 [==============================] - 14s 9ms/step - loss: 0.5290 - accuracy: 0.9980 - val_loss: 0.5187 - val_accuracy: 0.9937 - lr: 5.0000e-04\n",
            "Epoch 29/60\n",
            "1500/1500 [==============================] - 14s 9ms/step - loss: 0.5279 - accuracy: 0.9982 - val_loss: 0.5195 - val_accuracy: 0.9936 - lr: 5.0000e-04\n",
            "Epoch 30/60\n",
            "1500/1500 [==============================] - 14s 9ms/step - loss: 0.5283 - accuracy: 0.9979 - val_loss: 0.5194 - val_accuracy: 0.9936 - lr: 5.0000e-04\n",
            "Epoch 31/60\n",
            "1500/1500 [==============================] - 14s 9ms/step - loss: 0.5282 - accuracy: 0.9980 - val_loss: 0.5203 - val_accuracy: 0.9934 - lr: 5.0000e-04\n",
            "Epoch 32/60\n",
            "1500/1500 [==============================] - 14s 9ms/step - loss: 0.5265 - accuracy: 0.9987 - val_loss: 0.5175 - val_accuracy: 0.9937 - lr: 2.5000e-04\n",
            "Epoch 33/60\n",
            "1500/1500 [==============================] - 14s 9ms/step - loss: 0.5262 - accuracy: 0.9986 - val_loss: 0.5184 - val_accuracy: 0.9940 - lr: 2.5000e-04\n",
            "Epoch 34/60\n",
            "1500/1500 [==============================] - 14s 9ms/step - loss: 0.5253 - accuracy: 0.9988 - val_loss: 0.5189 - val_accuracy: 0.9940 - lr: 2.5000e-04\n",
            "Epoch 35/60\n",
            "1500/1500 [==============================] - 14s 9ms/step - loss: 0.5257 - accuracy: 0.9986 - val_loss: 0.5187 - val_accuracy: 0.9937 - lr: 2.5000e-04\n",
            "Epoch 36/60\n",
            "1500/1500 [==============================] - 14s 9ms/step - loss: 0.5251 - accuracy: 0.9989 - val_loss: 0.5176 - val_accuracy: 0.9943 - lr: 1.2500e-04\n",
            "Epoch 37/60\n",
            "1500/1500 [==============================] - 14s 9ms/step - loss: 0.5248 - accuracy: 0.9989 - val_loss: 0.5172 - val_accuracy: 0.9943 - lr: 1.2500e-04\n",
            "Epoch 38/60\n",
            "1500/1500 [==============================] - 14s 9ms/step - loss: 0.5244 - accuracy: 0.9990 - val_loss: 0.5171 - val_accuracy: 0.9946 - lr: 1.2500e-04\n",
            "Epoch 39/60\n",
            "1500/1500 [==============================] - 14s 9ms/step - loss: 0.5241 - accuracy: 0.9988 - val_loss: 0.5162 - val_accuracy: 0.9941 - lr: 1.2500e-04\n",
            "Epoch 40/60\n",
            "1500/1500 [==============================] - 13s 9ms/step - loss: 0.5244 - accuracy: 0.9988 - val_loss: 0.5171 - val_accuracy: 0.9943 - lr: 1.2500e-04\n",
            "Epoch 41/60\n",
            "1500/1500 [==============================] - 13s 9ms/step - loss: 0.5244 - accuracy: 0.9989 - val_loss: 0.5169 - val_accuracy: 0.9942 - lr: 1.2500e-04\n",
            "Epoch 42/60\n",
            "1500/1500 [==============================] - 14s 9ms/step - loss: 0.5245 - accuracy: 0.9987 - val_loss: 0.5175 - val_accuracy: 0.9939 - lr: 1.2500e-04\n",
            "Epoch 43/60\n",
            "1500/1500 [==============================] - 14s 9ms/step - loss: 0.5237 - accuracy: 0.9992 - val_loss: 0.5170 - val_accuracy: 0.9943 - lr: 6.2500e-05\n",
            "Epoch 44/60\n",
            "1500/1500 [==============================] - 14s 9ms/step - loss: 0.5241 - accuracy: 0.9991 - val_loss: 0.5168 - val_accuracy: 0.9941 - lr: 6.2500e-05\n",
            "Epoch 45/60\n",
            "1500/1500 [==============================] - 14s 9ms/step - loss: 0.5238 - accuracy: 0.9991 - val_loss: 0.5168 - val_accuracy: 0.9942 - lr: 6.2500e-05\n",
            "Epoch 46/60\n",
            "1500/1500 [==============================] - 14s 9ms/step - loss: 0.5237 - accuracy: 0.9991 - val_loss: 0.5165 - val_accuracy: 0.9943 - lr: 3.1250e-05\n",
            "Epoch 47/60\n",
            "1500/1500 [==============================] - 14s 9ms/step - loss: 0.5235 - accuracy: 0.9991 - val_loss: 0.5166 - val_accuracy: 0.9948 - lr: 3.1250e-05\n",
            "Epoch 48/60\n",
            "1500/1500 [==============================] - 13s 9ms/step - loss: 0.5237 - accuracy: 0.9992 - val_loss: 0.5166 - val_accuracy: 0.9948 - lr: 3.1250e-05\n",
            "Epoch 49/60\n",
            "1500/1500 [==============================] - 14s 9ms/step - loss: 0.5233 - accuracy: 0.9993 - val_loss: 0.5164 - val_accuracy: 0.9949 - lr: 1.5625e-05\n",
            "Epoch 50/60\n",
            "1500/1500 [==============================] - 14s 9ms/step - loss: 0.5232 - accuracy: 0.9992 - val_loss: 0.5164 - val_accuracy: 0.9949 - lr: 1.5625e-05\n",
            "Epoch 51/60\n",
            "1500/1500 [==============================] - 14s 9ms/step - loss: 0.5232 - accuracy: 0.9993 - val_loss: 0.5164 - val_accuracy: 0.9948 - lr: 1.5625e-05\n",
            "Epoch 52/60\n",
            "1500/1500 [==============================] - 14s 9ms/step - loss: 0.5233 - accuracy: 0.9992 - val_loss: 0.5162 - val_accuracy: 0.9947 - lr: 7.8125e-06\n",
            "Epoch 53/60\n",
            "1500/1500 [==============================] - 14s 9ms/step - loss: 0.5235 - accuracy: 0.9991 - val_loss: 0.5162 - val_accuracy: 0.9948 - lr: 7.8125e-06\n",
            "Epoch 54/60\n",
            "1500/1500 [==============================] - 14s 9ms/step - loss: 0.5230 - accuracy: 0.9993 - val_loss: 0.5164 - val_accuracy: 0.9948 - lr: 7.8125e-06\n",
            "Epoch 55/60\n",
            "1500/1500 [==============================] - 14s 9ms/step - loss: 0.5234 - accuracy: 0.9992 - val_loss: 0.5163 - val_accuracy: 0.9947 - lr: 3.9063e-06\n",
            "Epoch 56/60\n",
            "1500/1500 [==============================] - 14s 9ms/step - loss: 0.5235 - accuracy: 0.9990 - val_loss: 0.5163 - val_accuracy: 0.9948 - lr: 3.9063e-06\n",
            "Epoch 57/60\n",
            "1500/1500 [==============================] - 14s 9ms/step - loss: 0.5232 - accuracy: 0.9994 - val_loss: 0.5164 - val_accuracy: 0.9947 - lr: 3.9063e-06\n",
            "Epoch 58/60\n",
            "1500/1500 [==============================] - 14s 9ms/step - loss: 0.5232 - accuracy: 0.9992 - val_loss: 0.5162 - val_accuracy: 0.9948 - lr: 1.9531e-06\n",
            "Epoch 59/60\n",
            "1500/1500 [==============================] - 14s 9ms/step - loss: 0.5232 - accuracy: 0.9993 - val_loss: 0.5163 - val_accuracy: 0.9948 - lr: 1.9531e-06\n",
            "Epoch 60/60\n",
            "1500/1500 [==============================] - 14s 9ms/step - loss: 0.5231 - accuracy: 0.9993 - val_loss: 0.5163 - val_accuracy: 0.9948 - lr: 1.9531e-06\n"
          ]
        }
      ],
      "source": [
        "history = model.fit(train_data_aug,\n",
        "         validation_data=val_data_aug,\n",
        "         epochs=60,\n",
        "         batch_size=32,\n",
        "         shuffle=True\n",
        "         ,callbacks=[lr_scheduler])"
      ]
    },
    {
      "cell_type": "markdown",
      "metadata": {
        "id": "6dXd3o7yQAuz"
      },
      "source": [
        "After the training, we calculate our model's accuracy."
      ]
    },
    {
      "cell_type": "code",
      "execution_count": null,
      "metadata": {
        "colab": {
          "base_uri": "https://localhost:8080/"
        },
        "id": "XRF7bF5oRyGi",
        "outputId": "82abe401-4735-43f0-b89f-ac7e8a795419"
      },
      "outputs": [
        {
          "name": "stdout",
          "output_type": "stream",
          "text": [
            "313/313 [==============================] - 1s 4ms/step - loss: 0.5141 - accuracy: 0.9956\n",
            "The accuracy of the model is 99.56%\n",
            "The loss of the model is 0.5141\n"
          ]
        }
      ],
      "source": [
        "loss, acc = model.evaluate(test_data_aug)\n",
        "print(f'The accuracy of the model is {round(acc * 100, 2)}%')\n",
        "print(f'The loss of the model is {round(loss, 4)}')"
      ]
    },
    {
      "cell_type": "markdown",
      "metadata": {
        "id": "Jl11ie2GQAu0"
      },
      "source": [
        "The accuracy is acceptable. We will now save and load the model in order to make sure we saved our weights properly."
      ]
    },
    {
      "cell_type": "code",
      "execution_count": null,
      "metadata": {
        "id": "AYmHaawlQAu0"
      },
      "outputs": [],
      "source": [
        "model.save('best_model.keras')"
      ]
    },
    {
      "cell_type": "code",
      "execution_count": null,
      "metadata": {
        "id": "npIlKxWbQAu0"
      },
      "outputs": [],
      "source": [
        "model = tf.keras.models.load_model('9956.keras')\n",
        "# history = model.fit(train_data_aug,#Use if more training is desired\n",
        "#          validation_data=val_data_aug,\n",
        "#          epochs=10,\n",
        "#          batch_size=32,\n",
        "#          shuffle=True\n",
        "#          ,callbacks=[lr_scheduler])"
      ]
    },
    {
      "cell_type": "markdown",
      "metadata": {
        "id": "fXEpW03EQAu0"
      },
      "source": [
        "We recalculate the accuracy to see if we lost any amount of accuracy."
      ]
    },
    {
      "cell_type": "code",
      "execution_count": null,
      "metadata": {
        "id": "N7kTaxI4QAu2",
        "outputId": "345268cd-b146-4346-9a11-54500a041b0d"
      },
      "outputs": [
        {
          "name": "stdout",
          "output_type": "stream",
          "text": [
            "313/313 [==============================] - 2s 5ms/step - loss: 0.5141 - accuracy: 0.9956\n",
            "The accuracy of the model is 99.56%\n",
            "The loss of the model is 0.5141\n"
          ]
        }
      ],
      "source": [
        "loss, acc = model.evaluate(test_data_aug)\n",
        "print(f'The accuracy of the model is {round(acc * 100, 2)}%')\n",
        "print(f'The loss of the model is {round(loss, 4)}')"
      ]
    },
    {
      "cell_type": "markdown",
      "metadata": {
        "id": "Nlb8h2WwQAu2"
      },
      "source": [
        "The model is saved properly. Let's see a batch of our data visualized."
      ]
    },
    {
      "cell_type": "code",
      "execution_count": null,
      "metadata": {
        "id": "BocU_xG8QAu2",
        "outputId": "148fa8d3-f003-4fc6-9ff0-51dc898d796b"
      },
      "outputs": [
        {
          "name": "stdout",
          "output_type": "stream",
          "text": [
            "1/1 [==============================] - 0s 15ms/step\n",
            "[9 7 3 7 8 0 1 3 0 4 6 1 0 2 5 8 4 4 1 1 5 4 6 6 0 6 9 2 6 2 7 1]\n",
            "[9 7 3 7 8 0 1 3 0 4 6 1 0 2 5 8 4 4 1 1 5 4 6 6 0 6 9 2 6 2 7 1]\n"
          ]
        },
        {
          "data": {
            "text/plain": [
              "<matplotlib.image.AxesImage at 0x1ff671688e0>"
            ]
          },
          "execution_count": 31,
          "metadata": {},
          "output_type": "execute_result"
        },
        {
          "data": {
            "image/png": "[encoded data removed]",
            "text/plain": [
              "<Figure size 1500x3500 with 32 Axes>"
            ]
          },
          "metadata": {},
          "output_type": "display_data"
        }
      ],
      "source": [
        "fig, ax = plt.subplots(8, 4, figsize=(15, 35))\n",
        "batch_images, batch_true_labels = next(test_data_aug)\n",
        "batch_predictions = model.predict(batch_images)\n",
        "batch_true_indices = np.argmax(batch_true_labels, axis=1)\n",
        "batch_pred_indices = np.argmax(batch_predictions, axis=1)\n",
        "\n",
        "for i in range(32):\n",
        "    ax[i // 4, i % 4].imshow(batch_images[i].squeeze(), cmap='gray')\n",
        "    ax[i // 4, i % 4].axis('off')\n",
        "    ax[i // 4, i % 4].set_title(f'Predicted: {batch_pred_indices[i]}')\n",
        "#print('The batch's true indices are:')\n",
        "print(batch_true_indices)\n",
        "#print('The batch's predicted indices are:')\n",
        "print(batch_pred_indices)\n",
        "plt.imshow(batch_images[0].squeeze(), cmap='gray')"
      ]
    }
  ],
  "metadata": {
    "accelerator": "GPU",
    "colab": {
      "gpuType": "T4",
      "provenance": [],
      "include_colab_link": true
    },
    "kernelspec": {
      "display_name": "Python 3 (ipykernel)",
      "language": "python",
      "name": "python3"
    },
    "language_info": {
      "codemirror_mode": {
        "name": "ipython",
        "version": 3
      },
      "file_extension": ".py",
      "mimetype": "text/x-python",
      "name": "python",
      "nbconvert_exporter": "python",
      "pygments_lexer": "ipython3",
      "version": "3.9.21"
    }
  },
  "nbformat": 4,
  "nbformat_minor": 0
}