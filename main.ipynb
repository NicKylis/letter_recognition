{
  "cells": [
    {
      "cell_type": "markdown",
      "metadata": {
        "id": "view-in-github",
        "colab_type": "text"
      },
      "source": [
        "<a href=\"https://colab.research.google.com/github/NicKylis/letter_recognition/blob/main/main.ipynb\" target=\"_parent\"><img src=\"https://colab.research.google.com/assets/colab-badge.svg\" alt=\"Open In Colab\"/></a>"
      ]
    },
    {
      "cell_type": "code",
      "execution_count": null,
      "metadata": {
        "id": "kI0kvbgla13L"
      },
      "outputs": [],
      "source": [
        "import os\n",
        "import tensorflow as tf\n",
        "import matplotlib.pyplot as plt\n",
        "import numpy as np\n",
        "import kagglehub\n",
        "import shutil\n",
        "from sklearn.model_selection import train_test_split\n",
        "from sklearn.metrics import accuracy_score, confusion_matrix\n",
        "from tensorflow.keras.preprocessing.image import ImageDataGenerator\n",
        "from tensorflow import keras\n",
        "from tensorflow.keras.utils import to_categorical\n",
        "\n",
        "print (\"hello world!\")"
      ]
    },
    {
      "cell_type": "code",
      "source": [
        "def get_MNIST_dataset(train_generator, batch_size=32, val_split=0.2, random_state=42):\n",
        "  mnist = tf.keras.datasets.mnist\n",
        "  (x_train, y_train), (x_test, y_test) = mnist.load_data()\n",
        "\n",
        "  x_train = x_train.reshape(-1, 28, 28, 1).astype(\"float32\") / 255.0\n",
        "  x_test = x_test.reshape(-1, 28, 28, 1).astype(\"float32\") / 255.0\n",
        "\n",
        "  x_train, x_val, y_train, y_val = train_test_split(x_train, y_train, test_size = val_split, random_state=random_state)\n",
        "\n",
        "  num_classes = 10  # MNIST has 10 classes (digits 0-9)\n",
        "  y_train = to_categorical(y_train, num_classes)\n",
        "  y_val = to_categorical(y_val, num_classes)\n",
        "  y_test = to_categorical(y_test, num_classes)\n",
        "\n",
        "  val_test_generator = ImageDataGenerator()\n",
        "  train_gen = train_generator.flow(x_train, y_train, batch_size=batch_size)\n",
        "  val_gen = val_test_generator.flow(x_val, y_val, batch_size=batch_size)\n",
        "  test_gen = val_test_generator.flow(x_test, y_test, batch_size=batch_size, shuffle=False)\n",
        "\n",
        "  return train_gen, val_gen, test_gen"
      ],
      "metadata": {
        "id": "iya-qDQePUK9"
      },
      "execution_count": null,
      "outputs": []
    },
    {
      "cell_type": "code",
      "source": [
        "train_generator = ImageDataGenerator()\n",
        "train_generator_aug = ImageDataGenerator(\n",
        "    rotation_range=10,\n",
        "    width_shift_range=0.1,\n",
        "    height_shift_range=0.1,\n",
        "    shear_range=0.2,\n",
        "    zoom_range=0.2,)\n",
        "\n",
        "train_data, val_data, test_data = get_MNIST_dataset(train_generator, batch_size=32, val_split=0.2, random_state=42)\n",
        "train_data_aug, val_data_aug, test_data_aug = get_MNIST_dataset(train_generator, batch_size=32, val_split=0.2, random_state=42)"
      ],
      "metadata": {
        "id": "pezpnYEJ4wdw"
      },
      "execution_count": null,
      "outputs": []
    },
    {
      "cell_type": "code",
      "source": [
        "model = keras.Sequential([\n",
        "    keras.layers.Conv2D(32, (3,3), activation='relu', input_shape=(28,28,1)),\n",
        "    keras.layers.MaxPooling2D((2,2)),\n",
        "\n",
        "    keras.layers.Conv2D(64, (3,3), activation='relu'),\n",
        "    keras.layers.MaxPooling2D((2,2)),\n",
        "\n",
        "    keras.layers.Flatten(),\n",
        "    keras.layers.Dense(128, activation='relu'),\n",
        "    keras.layers.Dense(10, activation='softmax')  # 10 output neurons for digits 0-9\n",
        "])\n",
        "\n",
        "model.compile(optimizer='adam',\n",
        "              loss='categorical_crossentropy',\n",
        "              metrics=['accuracy', 'mae'])"
      ],
      "metadata": {
        "id": "ymTOtt2LPjhx"
      },
      "execution_count": null,
      "outputs": []
    },
    {
      "cell_type": "code",
      "source": [
        "callback = tf.keras.callbacks.EarlyStopping(monitor='loss', patience=10, restore_best_weights=True)\n",
        "history = model.fit(train_data_aug,\n",
        "         validation_data=val_data_aug,\n",
        "         epochs=20,\n",
        "         batch_size=32,\n",
        "         shuffle=True,\n",
        "         callbacks=[callback])"
      ],
      "metadata": {
        "id": "kdyzQArVQNUB"
      },
      "execution_count": null,
      "outputs": []
    },
    {
      "cell_type": "code",
      "source": [
        "loss, acc = model.evaluate(test_data_aug)\n",
        "print(f\"Test Accuracy: {100*round(acc,4)}%\")\n",
        "print(f\"Test Loss: {loss:.4f}\")"
      ],
      "metadata": {
        "id": "-Bwh8dRNbVY1"
      },
      "execution_count": null,
      "outputs": []
    },
    {
      "cell_type": "code",
      "source": [
        "epoch_loss = history.history['loss']\n",
        "epoch_val_loss = history.history['val_loss']\n",
        "epoch_mae = history.history['mae']\n",
        "epoch_val_mae = history.history['val_mae']\n",
        "\n",
        "fig, ax = plt.subplots(1, 2, figsize=(15,9))\n",
        "ax[0].plot(range(0, len(epoch_loss)), epoch_loss, 'b-', linewidth=2, label='Train Loss')\n",
        "ax[0].plot(range(0, len(epoch_val_loss)), epoch_val_loss, 'r-', linewidth=2, label='Val Loss')\n",
        "ax[0].set_title('Evolution of loss on train & validation datasets over epochs')\n",
        "ax[0].set_xlabel('Epoch')\n",
        "ax[0].set_ylabel('Loss')\n",
        "ax[0].legend(loc='best')\n",
        "\n",
        "ax[1].plot(range(0,len(epoch_mae)), epoch_mae, 'b-', linewidth=2, label='Train MAE')\n",
        "ax[1].plot(range(0,len(epoch_val_mae)), epoch_val_mae, 'r-', linewidth=2,label='Val MAE')\n",
        "ax[1].set_title('Evolution of MAE on train & validation datasets over epochs')\n",
        "ax[1].set_xlabel('Epoch')\n",
        "ax[1].set_ylabel('MAE')\n",
        "ax[1].legend(loc='best')"
      ],
      "metadata": {
        "id": "_41vG4jgadyB"
      },
      "execution_count": null,
      "outputs": []
    }
  ],
  "metadata": {
    "accelerator": "GPU",
    "colab": {
      "gpuType": "T4",
      "provenance": [],
      "include_colab_link": true
    },
    "kernelspec": {
      "display_name": "Python 3",
      "name": "python3"
    },
    "language_info": {
      "name": "python"
    }
  },
  "nbformat": 4,
  "nbformat_minor": 0
}